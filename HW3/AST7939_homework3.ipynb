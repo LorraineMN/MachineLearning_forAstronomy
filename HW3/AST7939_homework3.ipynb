{
 "cells": [
  {
   "cell_type": "markdown",
   "metadata": {
    "slideshow": {
     "slide_type": "slide"
    }
   },
   "source": [
    "# AST 7939 Homework Assignment #3 (10 pts)"
   ]
  },
  {
   "cell_type": "markdown",
   "metadata": {},
   "source": [
    "## All work is due Monday March 6 at 5 pm.\n",
    "\n",
    "## Instruction: \n",
    "Do all homework in this Jupyter notebook and submit your final .ipynb file via Canvas. Show ALL your work and try to add comment lines as needed to describe what your code does. \n",
    "\n",
    "You are encouraged to discuss homework problems with your classmates. However, your python script and answers to the questions must be written by yourself."
   ]
  },
  {
   "cell_type": "markdown",
   "metadata": {},
   "source": [
    "## Regression with ensemble methods"
   ]
  },
  {
   "cell_type": "markdown",
   "metadata": {},
   "source": [
    "### 1. Photometric redshift estimator using Random Forest (7 pts)\n",
    "\n",
    "Following [Zhou et al. (2019)](https://ui.adsabs.harvard.edu/abs/2019MNRAS.488.4565Z/abstract) (section 7, figure 5), the goal of this homework is to estimate photometric redshifts starting from observations of galaxy magnitudes in six different photometric bands (u, g, r, i, z, y), and compare the estimated photometric redshifts with spectroscopic redshifts. The data used in the paper are available at this [link](http://d-scholarship.pitt.edu/36064/). This example is motivated by an example in Machine Learning techniques for Physics and Astronomy that is being written by Dr. Viviana Acquaviva.\n",
    "\n",
    "Redshift is a crucial observable in the study of galaxies and cosmology. Spectroscopic redshifts are accurate, but the observations required are much more expensive than photometric measurements. Modern imaging surveys can measure the photometry of a huge number of objects very efficiently, but only a very small fraction will have observed spectra. For such surveys, redshifts must be estimated from broad-band photometry, and the large number of photometric redshift measurements compensates for their inaccuracy. The availability of large imaging data sets has made photometric redshift estimates an increasingly important component of modern extragalactic astronomy and cosmology studies.\n",
    "\n"
   ]
  },
  {
   "cell_type": "markdown",
   "metadata": {},
   "source": [
    "The paper used ugriz photometry from Canada–France–Hawaii Telescope Legacy Survey (CFHTLS) and Y-band photometry from the Subaru Suprime camera, as well as spectroscopic redshifts from the DEEP2, DEEP3, and 3D-HST surveys. In this homework problem, let's use DEEP2/3 data stored in DEEP2_uniq_Terapix_Subaru_v1.fits. You can read in the fits file by executing the cell below. See README file for more information on the content of the fits file."
   ]
  },
  {
   "cell_type": "code",
   "execution_count": 7,
   "metadata": {},
   "outputs": [],
   "source": [
    "import astropy\n",
    "from astropy.io import fits\n",
    "import pandas as pd\n",
    "import numpy as np\n",
    "\n",
    "with fits.open('./DEEP2_uniq_Terapix_Subaru_v1.fits') as data:\n",
    "    df = pd.DataFrame(np.array(data[1].data).byteswap().newbyteorder()) "
   ]
  },
  {
   "cell_type": "code",
   "execution_count": 8,
   "metadata": {},
   "outputs": [
    {
     "data": {
      "text/html": [
       "<div>\n",
       "<style scoped>\n",
       "    .dataframe tbody tr th:only-of-type {\n",
       "        vertical-align: middle;\n",
       "    }\n",
       "\n",
       "    .dataframe tbody tr th {\n",
       "        vertical-align: top;\n",
       "    }\n",
       "\n",
       "    .dataframe thead th {\n",
       "        text-align: right;\n",
       "    }\n",
       "</style>\n",
       "<table border=\"1\" class=\"dataframe\">\n",
       "  <thead>\n",
       "    <tr style=\"text-align: right;\">\n",
       "      <th></th>\n",
       "      <th>objno_deep2</th>\n",
       "      <th>ra_deep2</th>\n",
       "      <th>dec_deep2</th>\n",
       "      <th>magb</th>\n",
       "      <th>magr</th>\n",
       "      <th>magi</th>\n",
       "      <th>pgal</th>\n",
       "      <th>sfd_ebv</th>\n",
       "      <th>class</th>\n",
       "      <th>subclass</th>\n",
       "      <th>...</th>\n",
       "      <th>ra_subaru</th>\n",
       "      <th>dec_subaru</th>\n",
       "      <th>y</th>\n",
       "      <th>yerr</th>\n",
       "      <th>y_apercor</th>\n",
       "      <th>yerr_aper</th>\n",
       "      <th>yerr_apercor</th>\n",
       "      <th>y(sexflag)</th>\n",
       "      <th>y_radius_arcsec</th>\n",
       "      <th>subaru_source</th>\n",
       "    </tr>\n",
       "  </thead>\n",
       "  <tbody>\n",
       "    <tr>\n",
       "      <th>0</th>\n",
       "      <td>11001673</td>\n",
       "      <td>213.868704</td>\n",
       "      <td>51.956445</td>\n",
       "      <td>23.487745</td>\n",
       "      <td>23.143082</td>\n",
       "      <td>22.582092</td>\n",
       "      <td>1.000000</td>\n",
       "      <td>0.010943</td>\n",
       "      <td>b''</td>\n",
       "      <td>b''</td>\n",
       "      <td>...</td>\n",
       "      <td>213.868626</td>\n",
       "      <td>51.956443</td>\n",
       "      <td>21.869627</td>\n",
       "      <td>0.060918</td>\n",
       "      <td>21.926356</td>\n",
       "      <td>0.041955</td>\n",
       "      <td>0.141778</td>\n",
       "      <td>3.0</td>\n",
       "      <td>0.656514</td>\n",
       "      <td>1</td>\n",
       "    </tr>\n",
       "    <tr>\n",
       "      <th>1</th>\n",
       "      <td>11001699</td>\n",
       "      <td>213.810471</td>\n",
       "      <td>51.942316</td>\n",
       "      <td>22.067692</td>\n",
       "      <td>20.034674</td>\n",
       "      <td>19.545080</td>\n",
       "      <td>3.000000</td>\n",
       "      <td>0.011014</td>\n",
       "      <td>b'GALAXY'</td>\n",
       "      <td>b''</td>\n",
       "      <td>...</td>\n",
       "      <td>213.810455</td>\n",
       "      <td>51.942321</td>\n",
       "      <td>18.757229</td>\n",
       "      <td>0.005813</td>\n",
       "      <td>18.811085</td>\n",
       "      <td>0.004386</td>\n",
       "      <td>0.050987</td>\n",
       "      <td>3.0</td>\n",
       "      <td>0.744269</td>\n",
       "      <td>1</td>\n",
       "    </tr>\n",
       "    <tr>\n",
       "      <th>2</th>\n",
       "      <td>11001770</td>\n",
       "      <td>213.848431</td>\n",
       "      <td>51.948876</td>\n",
       "      <td>24.144438</td>\n",
       "      <td>24.103180</td>\n",
       "      <td>24.020006</td>\n",
       "      <td>3.000000</td>\n",
       "      <td>0.010856</td>\n",
       "      <td>b'GALAXY'</td>\n",
       "      <td>b''</td>\n",
       "      <td>...</td>\n",
       "      <td>-99.000000</td>\n",
       "      <td>-99.000000</td>\n",
       "      <td>-99.000000</td>\n",
       "      <td>-99.000000</td>\n",
       "      <td>-99.000000</td>\n",
       "      <td>-99.000000</td>\n",
       "      <td>-99.000000</td>\n",
       "      <td>-99.0</td>\n",
       "      <td>-99.000000</td>\n",
       "      <td>-99</td>\n",
       "    </tr>\n",
       "    <tr>\n",
       "      <th>3</th>\n",
       "      <td>11001800</td>\n",
       "      <td>213.831758</td>\n",
       "      <td>51.952548</td>\n",
       "      <td>25.336836</td>\n",
       "      <td>23.508480</td>\n",
       "      <td>23.081087</td>\n",
       "      <td>0.509809</td>\n",
       "      <td>0.010823</td>\n",
       "      <td>b'GALAXY'</td>\n",
       "      <td>b''</td>\n",
       "      <td>...</td>\n",
       "      <td>213.831766</td>\n",
       "      <td>51.952544</td>\n",
       "      <td>22.404269</td>\n",
       "      <td>0.088970</td>\n",
       "      <td>22.535600</td>\n",
       "      <td>0.053497</td>\n",
       "      <td>0.094733</td>\n",
       "      <td>0.0</td>\n",
       "      <td>0.455820</td>\n",
       "      <td>1</td>\n",
       "    </tr>\n",
       "    <tr>\n",
       "      <th>4</th>\n",
       "      <td>11001860</td>\n",
       "      <td>213.832550</td>\n",
       "      <td>51.954174</td>\n",
       "      <td>24.382738</td>\n",
       "      <td>23.401484</td>\n",
       "      <td>22.572845</td>\n",
       "      <td>3.000000</td>\n",
       "      <td>0.010827</td>\n",
       "      <td>b'GALAXY'</td>\n",
       "      <td>b''</td>\n",
       "      <td>...</td>\n",
       "      <td>213.832574</td>\n",
       "      <td>51.954175</td>\n",
       "      <td>22.242717</td>\n",
       "      <td>0.070760</td>\n",
       "      <td>22.100980</td>\n",
       "      <td>0.033256</td>\n",
       "      <td>0.073067</td>\n",
       "      <td>0.0</td>\n",
       "      <td>0.442022</td>\n",
       "      <td>1</td>\n",
       "    </tr>\n",
       "    <tr>\n",
       "      <th>...</th>\n",
       "      <td>...</td>\n",
       "      <td>...</td>\n",
       "      <td>...</td>\n",
       "      <td>...</td>\n",
       "      <td>...</td>\n",
       "      <td>...</td>\n",
       "      <td>...</td>\n",
       "      <td>...</td>\n",
       "      <td>...</td>\n",
       "      <td>...</td>\n",
       "      <td>...</td>\n",
       "      <td>...</td>\n",
       "      <td>...</td>\n",
       "      <td>...</td>\n",
       "      <td>...</td>\n",
       "      <td>...</td>\n",
       "      <td>...</td>\n",
       "      <td>...</td>\n",
       "      <td>...</td>\n",
       "      <td>...</td>\n",
       "      <td>...</td>\n",
       "    </tr>\n",
       "    <tr>\n",
       "      <th>23817</th>\n",
       "      <td>14101719</td>\n",
       "      <td>215.846401</td>\n",
       "      <td>53.624987</td>\n",
       "      <td>24.880594</td>\n",
       "      <td>23.931303</td>\n",
       "      <td>23.686260</td>\n",
       "      <td>3.000000</td>\n",
       "      <td>0.008581</td>\n",
       "      <td>b'GALAXY'</td>\n",
       "      <td>b''</td>\n",
       "      <td>...</td>\n",
       "      <td>-99.000000</td>\n",
       "      <td>-99.000000</td>\n",
       "      <td>-99.000000</td>\n",
       "      <td>-99.000000</td>\n",
       "      <td>-99.000000</td>\n",
       "      <td>-99.000000</td>\n",
       "      <td>-99.000000</td>\n",
       "      <td>-99.0</td>\n",
       "      <td>-99.000000</td>\n",
       "      <td>-99</td>\n",
       "    </tr>\n",
       "    <tr>\n",
       "      <th>23818</th>\n",
       "      <td>14101725</td>\n",
       "      <td>215.851575</td>\n",
       "      <td>53.645377</td>\n",
       "      <td>24.990257</td>\n",
       "      <td>23.748713</td>\n",
       "      <td>24.787706</td>\n",
       "      <td>3.000000</td>\n",
       "      <td>0.008810</td>\n",
       "      <td>b'GALAXY'</td>\n",
       "      <td>b''</td>\n",
       "      <td>...</td>\n",
       "      <td>-99.000000</td>\n",
       "      <td>-99.000000</td>\n",
       "      <td>-99.000000</td>\n",
       "      <td>-99.000000</td>\n",
       "      <td>-99.000000</td>\n",
       "      <td>-99.000000</td>\n",
       "      <td>-99.000000</td>\n",
       "      <td>-99.0</td>\n",
       "      <td>-99.000000</td>\n",
       "      <td>-99</td>\n",
       "    </tr>\n",
       "    <tr>\n",
       "      <th>23819</th>\n",
       "      <td>14101742</td>\n",
       "      <td>215.816677</td>\n",
       "      <td>53.642263</td>\n",
       "      <td>24.398949</td>\n",
       "      <td>23.981462</td>\n",
       "      <td>23.309269</td>\n",
       "      <td>3.000000</td>\n",
       "      <td>0.008401</td>\n",
       "      <td>b'GALAXY'</td>\n",
       "      <td>b''</td>\n",
       "      <td>...</td>\n",
       "      <td>-99.000000</td>\n",
       "      <td>-99.000000</td>\n",
       "      <td>-99.000000</td>\n",
       "      <td>-99.000000</td>\n",
       "      <td>-99.000000</td>\n",
       "      <td>-99.000000</td>\n",
       "      <td>-99.000000</td>\n",
       "      <td>-99.0</td>\n",
       "      <td>-99.000000</td>\n",
       "      <td>-99</td>\n",
       "    </tr>\n",
       "    <tr>\n",
       "      <th>23820</th>\n",
       "      <td>14101753</td>\n",
       "      <td>215.734613</td>\n",
       "      <td>53.653408</td>\n",
       "      <td>24.156218</td>\n",
       "      <td>23.336174</td>\n",
       "      <td>23.215044</td>\n",
       "      <td>3.000000</td>\n",
       "      <td>0.007889</td>\n",
       "      <td>b'GALAXY'</td>\n",
       "      <td>b''</td>\n",
       "      <td>...</td>\n",
       "      <td>-99.000000</td>\n",
       "      <td>-99.000000</td>\n",
       "      <td>-99.000000</td>\n",
       "      <td>-99.000000</td>\n",
       "      <td>-99.000000</td>\n",
       "      <td>-99.000000</td>\n",
       "      <td>-99.000000</td>\n",
       "      <td>-99.0</td>\n",
       "      <td>-99.000000</td>\n",
       "      <td>-99</td>\n",
       "    </tr>\n",
       "    <tr>\n",
       "      <th>23821</th>\n",
       "      <td>14101754</td>\n",
       "      <td>215.734430</td>\n",
       "      <td>53.654144</td>\n",
       "      <td>24.726149</td>\n",
       "      <td>23.308008</td>\n",
       "      <td>22.781305</td>\n",
       "      <td>3.000000</td>\n",
       "      <td>0.007893</td>\n",
       "      <td>b''</td>\n",
       "      <td>b''</td>\n",
       "      <td>...</td>\n",
       "      <td>-99.000000</td>\n",
       "      <td>-99.000000</td>\n",
       "      <td>-99.000000</td>\n",
       "      <td>-99.000000</td>\n",
       "      <td>-99.000000</td>\n",
       "      <td>-99.000000</td>\n",
       "      <td>-99.000000</td>\n",
       "      <td>-99.0</td>\n",
       "      <td>-99.000000</td>\n",
       "      <td>-99</td>\n",
       "    </tr>\n",
       "  </tbody>\n",
       "</table>\n",
       "<p>23822 rows × 78 columns</p>\n",
       "</div>"
      ],
      "text/plain": [
       "       objno_deep2    ra_deep2  dec_deep2       magb       magr       magi  \\\n",
       "0         11001673  213.868704  51.956445  23.487745  23.143082  22.582092   \n",
       "1         11001699  213.810471  51.942316  22.067692  20.034674  19.545080   \n",
       "2         11001770  213.848431  51.948876  24.144438  24.103180  24.020006   \n",
       "3         11001800  213.831758  51.952548  25.336836  23.508480  23.081087   \n",
       "4         11001860  213.832550  51.954174  24.382738  23.401484  22.572845   \n",
       "...            ...         ...        ...        ...        ...        ...   \n",
       "23817     14101719  215.846401  53.624987  24.880594  23.931303  23.686260   \n",
       "23818     14101725  215.851575  53.645377  24.990257  23.748713  24.787706   \n",
       "23819     14101742  215.816677  53.642263  24.398949  23.981462  23.309269   \n",
       "23820     14101753  215.734613  53.653408  24.156218  23.336174  23.215044   \n",
       "23821     14101754  215.734430  53.654144  24.726149  23.308008  22.781305   \n",
       "\n",
       "           pgal   sfd_ebv      class subclass  ...   ra_subaru dec_subaru  \\\n",
       "0      1.000000  0.010943        b''      b''  ...  213.868626  51.956443   \n",
       "1      3.000000  0.011014  b'GALAXY'      b''  ...  213.810455  51.942321   \n",
       "2      3.000000  0.010856  b'GALAXY'      b''  ...  -99.000000 -99.000000   \n",
       "3      0.509809  0.010823  b'GALAXY'      b''  ...  213.831766  51.952544   \n",
       "4      3.000000  0.010827  b'GALAXY'      b''  ...  213.832574  51.954175   \n",
       "...         ...       ...        ...      ...  ...         ...        ...   \n",
       "23817  3.000000  0.008581  b'GALAXY'      b''  ...  -99.000000 -99.000000   \n",
       "23818  3.000000  0.008810  b'GALAXY'      b''  ...  -99.000000 -99.000000   \n",
       "23819  3.000000  0.008401  b'GALAXY'      b''  ...  -99.000000 -99.000000   \n",
       "23820  3.000000  0.007889  b'GALAXY'      b''  ...  -99.000000 -99.000000   \n",
       "23821  3.000000  0.007893        b''      b''  ...  -99.000000 -99.000000   \n",
       "\n",
       "               y       yerr  y_apercor  yerr_aper  yerr_apercor  y(sexflag)  \\\n",
       "0      21.869627   0.060918  21.926356   0.041955      0.141778         3.0   \n",
       "1      18.757229   0.005813  18.811085   0.004386      0.050987         3.0   \n",
       "2     -99.000000 -99.000000 -99.000000 -99.000000    -99.000000       -99.0   \n",
       "3      22.404269   0.088970  22.535600   0.053497      0.094733         0.0   \n",
       "4      22.242717   0.070760  22.100980   0.033256      0.073067         0.0   \n",
       "...          ...        ...        ...        ...           ...         ...   \n",
       "23817 -99.000000 -99.000000 -99.000000 -99.000000    -99.000000       -99.0   \n",
       "23818 -99.000000 -99.000000 -99.000000 -99.000000    -99.000000       -99.0   \n",
       "23819 -99.000000 -99.000000 -99.000000 -99.000000    -99.000000       -99.0   \n",
       "23820 -99.000000 -99.000000 -99.000000 -99.000000    -99.000000       -99.0   \n",
       "23821 -99.000000 -99.000000 -99.000000 -99.000000    -99.000000       -99.0   \n",
       "\n",
       "       y_radius_arcsec  subaru_source  \n",
       "0             0.656514              1  \n",
       "1             0.744269              1  \n",
       "2           -99.000000            -99  \n",
       "3             0.455820              1  \n",
       "4             0.442022              1  \n",
       "...                ...            ...  \n",
       "23817       -99.000000            -99  \n",
       "23818       -99.000000            -99  \n",
       "23819       -99.000000            -99  \n",
       "23820       -99.000000            -99  \n",
       "23821       -99.000000            -99  \n",
       "\n",
       "[23822 rows x 78 columns]"
      ]
     },
     "metadata": {},
     "output_type": "display_data"
    }
   ],
   "source": [
    "display(df)"
   ]
  },
  {
   "cell_type": "markdown",
   "metadata": {},
   "source": [
    "(a) As in almost all real-life ML problems, start with data cleaning. Follow the steps below. (1 pt)\n",
    "\n",
    "1. Collect deep field CFHTLS data only by choosing the objects with `cfhtls_source` = 0.\n",
    "2. Collect deep source subaru data only by choosing the objects with `subaru_source` = 0.\n",
    "3. Collect objects with redshift quality code `zquality` >= 3.\n",
    "4. Collect objects with `u_apercor` < 99.\n",
    "5. Collect objects with `y_apercor` < 99.\n",
    "\n",
    "The 'features' we will use are aperture corrected ugrizy magnitudes, `u_apercor, g_apercor, r_apercor, i_apercor, z_apercor, y_apercor`. The 'label' we will use is the spectroscopic redshift `zhelio`. Put the features in a dataframe X and labels in a dataframe y. You should end up with 5874 objects after data cleaning. Split the data into training and test datasets."
   ]
  },
  {
   "cell_type": "code",
   "execution_count": 9,
   "metadata": {},
   "outputs": [],
   "source": [
    "# Create new dataframes following the criteria above\n",
    "df_new = df[df['cfhtls_source'] == 0]\n",
    "df_new = df_new[df_new['subaru_source'] == 0]\n",
    "df_new = df_new[df_new['zquality'] >= 3]\n",
    "df_new = df_new[df_new['u_apercor'] < 99]\n",
    "df_new = df_new[df_new['y_apercor'] < 99]"
   ]
  },
  {
   "cell_type": "code",
   "execution_count": 10,
   "metadata": {},
   "outputs": [
    {
     "data": {
      "text/plain": [
       "(5874, 78)"
      ]
     },
     "execution_count": 10,
     "metadata": {},
     "output_type": "execute_result"
    }
   ],
   "source": [
    "df_new.shape"
   ]
  },
  {
   "cell_type": "code",
   "execution_count": 11,
   "metadata": {},
   "outputs": [
    {
     "data": {
      "text/html": [
       "<div>\n",
       "<style scoped>\n",
       "    .dataframe tbody tr th:only-of-type {\n",
       "        vertical-align: middle;\n",
       "    }\n",
       "\n",
       "    .dataframe tbody tr th {\n",
       "        vertical-align: top;\n",
       "    }\n",
       "\n",
       "    .dataframe thead th {\n",
       "        text-align: right;\n",
       "    }\n",
       "</style>\n",
       "<table border=\"1\" class=\"dataframe\">\n",
       "  <thead>\n",
       "    <tr style=\"text-align: right;\">\n",
       "      <th></th>\n",
       "      <th>objno_deep2</th>\n",
       "      <th>ra_deep2</th>\n",
       "      <th>dec_deep2</th>\n",
       "      <th>magb</th>\n",
       "      <th>magr</th>\n",
       "      <th>magi</th>\n",
       "      <th>pgal</th>\n",
       "      <th>sfd_ebv</th>\n",
       "      <th>class</th>\n",
       "      <th>subclass</th>\n",
       "      <th>...</th>\n",
       "      <th>ra_subaru</th>\n",
       "      <th>dec_subaru</th>\n",
       "      <th>y</th>\n",
       "      <th>yerr</th>\n",
       "      <th>y_apercor</th>\n",
       "      <th>yerr_aper</th>\n",
       "      <th>yerr_apercor</th>\n",
       "      <th>y(sexflag)</th>\n",
       "      <th>y_radius_arcsec</th>\n",
       "      <th>subaru_source</th>\n",
       "    </tr>\n",
       "  </thead>\n",
       "  <tbody>\n",
       "    <tr>\n",
       "      <th>2499</th>\n",
       "      <td>11037490</td>\n",
       "      <td>214.302474</td>\n",
       "      <td>52.298084</td>\n",
       "      <td>25.431713</td>\n",
       "      <td>24.047861</td>\n",
       "      <td>23.586142</td>\n",
       "      <td>0.576851</td>\n",
       "      <td>0.012205</td>\n",
       "      <td>b'GALAXY'</td>\n",
       "      <td>b''</td>\n",
       "      <td>...</td>\n",
       "      <td>214.302465</td>\n",
       "      <td>52.298060</td>\n",
       "      <td>23.273523</td>\n",
       "      <td>0.068970</td>\n",
       "      <td>23.218842</td>\n",
       "      <td>0.044504</td>\n",
       "      <td>0.119294</td>\n",
       "      <td>0.0</td>\n",
       "      <td>0.569114</td>\n",
       "      <td>0</td>\n",
       "    </tr>\n",
       "    <tr>\n",
       "      <th>2502</th>\n",
       "      <td>11037561</td>\n",
       "      <td>214.350391</td>\n",
       "      <td>52.302514</td>\n",
       "      <td>24.355959</td>\n",
       "      <td>23.344141</td>\n",
       "      <td>22.505444</td>\n",
       "      <td>3.000000</td>\n",
       "      <td>0.011449</td>\n",
       "      <td>b'GALAXY'</td>\n",
       "      <td>b''</td>\n",
       "      <td>...</td>\n",
       "      <td>214.350384</td>\n",
       "      <td>52.302462</td>\n",
       "      <td>22.182061</td>\n",
       "      <td>0.023196</td>\n",
       "      <td>22.144828</td>\n",
       "      <td>0.018686</td>\n",
       "      <td>0.059114</td>\n",
       "      <td>0.0</td>\n",
       "      <td>0.584019</td>\n",
       "      <td>0</td>\n",
       "    </tr>\n",
       "    <tr>\n",
       "      <th>2505</th>\n",
       "      <td>11037681</td>\n",
       "      <td>214.295906</td>\n",
       "      <td>52.267950</td>\n",
       "      <td>24.413420</td>\n",
       "      <td>23.310343</td>\n",
       "      <td>23.081625</td>\n",
       "      <td>3.000000</td>\n",
       "      <td>0.012425</td>\n",
       "      <td>b'GALAXY'</td>\n",
       "      <td>b''</td>\n",
       "      <td>...</td>\n",
       "      <td>214.295901</td>\n",
       "      <td>52.267926</td>\n",
       "      <td>22.796411</td>\n",
       "      <td>0.059920</td>\n",
       "      <td>22.804502</td>\n",
       "      <td>0.040595</td>\n",
       "      <td>0.092135</td>\n",
       "      <td>0.0</td>\n",
       "      <td>0.582657</td>\n",
       "      <td>0</td>\n",
       "    </tr>\n",
       "    <tr>\n",
       "      <th>2509</th>\n",
       "      <td>11037775</td>\n",
       "      <td>214.342520</td>\n",
       "      <td>52.299202</td>\n",
       "      <td>22.978125</td>\n",
       "      <td>20.740812</td>\n",
       "      <td>20.135862</td>\n",
       "      <td>3.000000</td>\n",
       "      <td>0.011631</td>\n",
       "      <td>b'GALAXY'</td>\n",
       "      <td>b''</td>\n",
       "      <td>...</td>\n",
       "      <td>214.342536</td>\n",
       "      <td>52.299159</td>\n",
       "      <td>19.796868</td>\n",
       "      <td>0.005080</td>\n",
       "      <td>19.790933</td>\n",
       "      <td>0.005203</td>\n",
       "      <td>0.020880</td>\n",
       "      <td>2.0</td>\n",
       "      <td>0.561234</td>\n",
       "      <td>0</td>\n",
       "    </tr>\n",
       "    <tr>\n",
       "      <th>2510</th>\n",
       "      <td>11037776</td>\n",
       "      <td>214.296112</td>\n",
       "      <td>52.299322</td>\n",
       "      <td>24.995821</td>\n",
       "      <td>24.985931</td>\n",
       "      <td>24.188585</td>\n",
       "      <td>1.000000</td>\n",
       "      <td>0.012245</td>\n",
       "      <td>b'GALAXY'</td>\n",
       "      <td>b''</td>\n",
       "      <td>...</td>\n",
       "      <td>214.296065</td>\n",
       "      <td>52.299299</td>\n",
       "      <td>24.000562</td>\n",
       "      <td>0.133915</td>\n",
       "      <td>23.882785</td>\n",
       "      <td>0.067364</td>\n",
       "      <td>0.126254</td>\n",
       "      <td>0.0</td>\n",
       "      <td>0.492320</td>\n",
       "      <td>0</td>\n",
       "    </tr>\n",
       "    <tr>\n",
       "      <th>...</th>\n",
       "      <td>...</td>\n",
       "      <td>...</td>\n",
       "      <td>...</td>\n",
       "      <td>...</td>\n",
       "      <td>...</td>\n",
       "      <td>...</td>\n",
       "      <td>...</td>\n",
       "      <td>...</td>\n",
       "      <td>...</td>\n",
       "      <td>...</td>\n",
       "      <td>...</td>\n",
       "      <td>...</td>\n",
       "      <td>...</td>\n",
       "      <td>...</td>\n",
       "      <td>...</td>\n",
       "      <td>...</td>\n",
       "      <td>...</td>\n",
       "      <td>...</td>\n",
       "      <td>...</td>\n",
       "      <td>...</td>\n",
       "      <td>...</td>\n",
       "    </tr>\n",
       "    <tr>\n",
       "      <th>19949</th>\n",
       "      <td>13100548</td>\n",
       "      <td>214.728795</td>\n",
       "      <td>52.906654</td>\n",
       "      <td>23.673079</td>\n",
       "      <td>23.903870</td>\n",
       "      <td>23.676649</td>\n",
       "      <td>3.000000</td>\n",
       "      <td>0.009849</td>\n",
       "      <td>b'GALAXY'</td>\n",
       "      <td>b''</td>\n",
       "      <td>...</td>\n",
       "      <td>214.728689</td>\n",
       "      <td>52.906730</td>\n",
       "      <td>23.381147</td>\n",
       "      <td>0.130727</td>\n",
       "      <td>23.389464</td>\n",
       "      <td>0.073553</td>\n",
       "      <td>0.161931</td>\n",
       "      <td>3.0</td>\n",
       "      <td>0.682733</td>\n",
       "      <td>0</td>\n",
       "    </tr>\n",
       "    <tr>\n",
       "      <th>20131</th>\n",
       "      <td>13101979</td>\n",
       "      <td>214.886536</td>\n",
       "      <td>52.803080</td>\n",
       "      <td>23.338522</td>\n",
       "      <td>22.367144</td>\n",
       "      <td>21.210512</td>\n",
       "      <td>3.000000</td>\n",
       "      <td>0.007346</td>\n",
       "      <td>b'GALAXY'</td>\n",
       "      <td>b''</td>\n",
       "      <td>...</td>\n",
       "      <td>214.886548</td>\n",
       "      <td>52.803085</td>\n",
       "      <td>20.972344</td>\n",
       "      <td>0.015147</td>\n",
       "      <td>20.972074</td>\n",
       "      <td>0.013874</td>\n",
       "      <td>0.048886</td>\n",
       "      <td>2.0</td>\n",
       "      <td>0.886684</td>\n",
       "      <td>0</td>\n",
       "    </tr>\n",
       "    <tr>\n",
       "      <th>20134</th>\n",
       "      <td>13101983</td>\n",
       "      <td>214.689275</td>\n",
       "      <td>52.887068</td>\n",
       "      <td>23.432962</td>\n",
       "      <td>21.421753</td>\n",
       "      <td>20.853569</td>\n",
       "      <td>3.000000</td>\n",
       "      <td>0.010133</td>\n",
       "      <td>b'GALAXY'</td>\n",
       "      <td>b''</td>\n",
       "      <td>...</td>\n",
       "      <td>214.689212</td>\n",
       "      <td>52.887088</td>\n",
       "      <td>20.562617</td>\n",
       "      <td>0.007413</td>\n",
       "      <td>20.588093</td>\n",
       "      <td>0.007435</td>\n",
       "      <td>0.021106</td>\n",
       "      <td>3.0</td>\n",
       "      <td>0.518448</td>\n",
       "      <td>0</td>\n",
       "    </tr>\n",
       "    <tr>\n",
       "      <th>20135</th>\n",
       "      <td>13101984</td>\n",
       "      <td>214.689810</td>\n",
       "      <td>52.887663</td>\n",
       "      <td>22.297819</td>\n",
       "      <td>21.388351</td>\n",
       "      <td>21.049910</td>\n",
       "      <td>3.000000</td>\n",
       "      <td>0.010144</td>\n",
       "      <td>b'GALAXY'</td>\n",
       "      <td>b''</td>\n",
       "      <td>...</td>\n",
       "      <td>214.689750</td>\n",
       "      <td>52.887690</td>\n",
       "      <td>21.000422</td>\n",
       "      <td>0.009771</td>\n",
       "      <td>20.998884</td>\n",
       "      <td>0.009823</td>\n",
       "      <td>0.030919</td>\n",
       "      <td>3.0</td>\n",
       "      <td>0.621984</td>\n",
       "      <td>0</td>\n",
       "    </tr>\n",
       "    <tr>\n",
       "      <th>20136</th>\n",
       "      <td>13101985</td>\n",
       "      <td>214.681387</td>\n",
       "      <td>52.859376</td>\n",
       "      <td>22.411993</td>\n",
       "      <td>21.798042</td>\n",
       "      <td>21.309460</td>\n",
       "      <td>3.000000</td>\n",
       "      <td>0.009558</td>\n",
       "      <td>b'GALAXY'</td>\n",
       "      <td>b''</td>\n",
       "      <td>...</td>\n",
       "      <td>214.681371</td>\n",
       "      <td>52.859340</td>\n",
       "      <td>21.456182</td>\n",
       "      <td>0.013438</td>\n",
       "      <td>21.453912</td>\n",
       "      <td>0.014370</td>\n",
       "      <td>0.058191</td>\n",
       "      <td>3.0</td>\n",
       "      <td>0.842850</td>\n",
       "      <td>0</td>\n",
       "    </tr>\n",
       "  </tbody>\n",
       "</table>\n",
       "<p>5874 rows × 78 columns</p>\n",
       "</div>"
      ],
      "text/plain": [
       "       objno_deep2    ra_deep2  dec_deep2       magb       magr       magi  \\\n",
       "2499      11037490  214.302474  52.298084  25.431713  24.047861  23.586142   \n",
       "2502      11037561  214.350391  52.302514  24.355959  23.344141  22.505444   \n",
       "2505      11037681  214.295906  52.267950  24.413420  23.310343  23.081625   \n",
       "2509      11037775  214.342520  52.299202  22.978125  20.740812  20.135862   \n",
       "2510      11037776  214.296112  52.299322  24.995821  24.985931  24.188585   \n",
       "...            ...         ...        ...        ...        ...        ...   \n",
       "19949     13100548  214.728795  52.906654  23.673079  23.903870  23.676649   \n",
       "20131     13101979  214.886536  52.803080  23.338522  22.367144  21.210512   \n",
       "20134     13101983  214.689275  52.887068  23.432962  21.421753  20.853569   \n",
       "20135     13101984  214.689810  52.887663  22.297819  21.388351  21.049910   \n",
       "20136     13101985  214.681387  52.859376  22.411993  21.798042  21.309460   \n",
       "\n",
       "           pgal   sfd_ebv      class subclass  ...   ra_subaru dec_subaru  \\\n",
       "2499   0.576851  0.012205  b'GALAXY'      b''  ...  214.302465  52.298060   \n",
       "2502   3.000000  0.011449  b'GALAXY'      b''  ...  214.350384  52.302462   \n",
       "2505   3.000000  0.012425  b'GALAXY'      b''  ...  214.295901  52.267926   \n",
       "2509   3.000000  0.011631  b'GALAXY'      b''  ...  214.342536  52.299159   \n",
       "2510   1.000000  0.012245  b'GALAXY'      b''  ...  214.296065  52.299299   \n",
       "...         ...       ...        ...      ...  ...         ...        ...   \n",
       "19949  3.000000  0.009849  b'GALAXY'      b''  ...  214.728689  52.906730   \n",
       "20131  3.000000  0.007346  b'GALAXY'      b''  ...  214.886548  52.803085   \n",
       "20134  3.000000  0.010133  b'GALAXY'      b''  ...  214.689212  52.887088   \n",
       "20135  3.000000  0.010144  b'GALAXY'      b''  ...  214.689750  52.887690   \n",
       "20136  3.000000  0.009558  b'GALAXY'      b''  ...  214.681371  52.859340   \n",
       "\n",
       "               y      yerr  y_apercor  yerr_aper  yerr_apercor  y(sexflag)  \\\n",
       "2499   23.273523  0.068970  23.218842   0.044504      0.119294         0.0   \n",
       "2502   22.182061  0.023196  22.144828   0.018686      0.059114         0.0   \n",
       "2505   22.796411  0.059920  22.804502   0.040595      0.092135         0.0   \n",
       "2509   19.796868  0.005080  19.790933   0.005203      0.020880         2.0   \n",
       "2510   24.000562  0.133915  23.882785   0.067364      0.126254         0.0   \n",
       "...          ...       ...        ...        ...           ...         ...   \n",
       "19949  23.381147  0.130727  23.389464   0.073553      0.161931         3.0   \n",
       "20131  20.972344  0.015147  20.972074   0.013874      0.048886         2.0   \n",
       "20134  20.562617  0.007413  20.588093   0.007435      0.021106         3.0   \n",
       "20135  21.000422  0.009771  20.998884   0.009823      0.030919         3.0   \n",
       "20136  21.456182  0.013438  21.453912   0.014370      0.058191         3.0   \n",
       "\n",
       "       y_radius_arcsec  subaru_source  \n",
       "2499          0.569114              0  \n",
       "2502          0.584019              0  \n",
       "2505          0.582657              0  \n",
       "2509          0.561234              0  \n",
       "2510          0.492320              0  \n",
       "...                ...            ...  \n",
       "19949         0.682733              0  \n",
       "20131         0.886684              0  \n",
       "20134         0.518448              0  \n",
       "20135         0.621984              0  \n",
       "20136         0.842850              0  \n",
       "\n",
       "[5874 rows x 78 columns]"
      ]
     },
     "metadata": {},
     "output_type": "display_data"
    }
   ],
   "source": [
    "display(df_new)"
   ]
  },
  {
   "cell_type": "code",
   "execution_count": 12,
   "metadata": {},
   "outputs": [],
   "source": [
    "from sklearn.model_selection import train_test_split\n",
    "\n",
    "# Gather all the features into an array X\n",
    "X = np.array([df_new['u_apercor'], df_new['g_apercor'], df_new['r_apercor'], df_new['i_apercor'],\n",
    "            df_new['z_apercor'], df_new['y_apercor']]).T\n",
    "# Put labels into an array y\n",
    "y = np.array(df_new['zhelio'])\n",
    "\n",
    "# Split training and testing data\n",
    "X_train, X_test, y_train, y_test = train_test_split(X, y, random_state=0)\n"
   ]
  },
  {
   "cell_type": "code",
   "execution_count": 177,
   "metadata": {},
   "outputs": [
    {
     "data": {
      "text/plain": [
       "array([0.50382656, 0.86735505, 0.41687515, ..., 0.37032545, 0.37097272,\n",
       "       0.7333149 ], dtype=float32)"
      ]
     },
     "execution_count": 177,
     "metadata": {},
     "output_type": "execute_result"
    }
   ],
   "source": [
    "y"
   ]
  },
  {
   "cell_type": "code",
   "execution_count": 171,
   "metadata": {},
   "outputs": [
    {
     "data": {
      "text/plain": [
       "((4405, 6), (4405,))"
      ]
     },
     "execution_count": 171,
     "metadata": {},
     "output_type": "execute_result"
    }
   ],
   "source": [
    "X_train.shape, y_train.shape"
   ]
  },
  {
   "cell_type": "code",
   "execution_count": 172,
   "metadata": {},
   "outputs": [
    {
     "data": {
      "text/plain": [
       "(numpy.ndarray, numpy.ndarray)"
      ]
     },
     "execution_count": 172,
     "metadata": {},
     "output_type": "execute_result"
    }
   ],
   "source": [
    "type(X_train), type(y_train)"
   ]
  },
  {
   "cell_type": "markdown",
   "metadata": {},
   "source": [
    "(b) Make a `RandomForestRegressor` model. Use the default hyperparameters for now (we will optimize them later). Compute the accuracy of the model in two ways. (1 pt)\n",
    "\n",
    "1. Compute the training and test scores of the model using 5-fold cross validation. You will get 5 scores. Report the average of the 5 scores.\n",
    "2. Compute the out-of-bag test score. "
   ]
  },
  {
   "cell_type": "code",
   "execution_count": 13,
   "metadata": {},
   "outputs": [
    {
     "name": "stdout",
     "output_type": "stream",
     "text": [
      "Average Training Score =  0.7411586288088723\n",
      "Average Testing Score =  0.668265965096813\n"
     ]
    }
   ],
   "source": [
    "from sklearn.ensemble import RandomForestRegressor\n",
    "from sklearn.model_selection import cross_val_score, cross_validate\n",
    "\n",
    "# Make a RandomForestRegressor model with default values\n",
    "model = RandomForestRegressor(random_state=0)\n",
    "# Fit the model to the training data\n",
    "model.fit(X_train, y_train)\n",
    "# 1. Compute score using 5-fold cross validation\n",
    "scores_train = cross_val_score(model, X_train, y_train, cv=5)\n",
    "scores_test = cross_val_score(model, X_test, y_test, cv=5)\n",
    "\n",
    "print('Average Training Score = ', np.mean(scores_train))\n",
    "print('Average Testing Score = ', np.mean(scores_test))\n"
   ]
  },
  {
   "cell_type": "code",
   "execution_count": 14,
   "metadata": {},
   "outputs": [
    {
     "name": "stdout",
     "output_type": "stream",
     "text": [
      "Out-of-Bag Test Score =  0.7362953943383985\n"
     ]
    }
   ],
   "source": [
    "# Make a RandomForestRegressor model with default values, this time we will need the out-of-bag score\n",
    "model = RandomForestRegressor(random_state=0, oob_score=True)\n",
    "# Fit the model to all the data\n",
    "model.fit(X, y)\n",
    "# Compute out-of-bag score\n",
    "oob = model.oob_score_\n",
    "\n",
    "print('Out-of-Bag Test Score = ', oob)"
   ]
  },
  {
   "cell_type": "markdown",
   "metadata": {},
   "source": [
    "(c) Using the `RandomForestRegressor` you built in #b, make predictions for the test dataset. This prediction will be the \"photometric redshift\". Then, make a scatter plot showing photometric redshift vs. spectroscopic redshift. Your figure should look similar to Figure 5 of Zhou et al. (2019). Also, compute the outlier fraction $\\eta$, which is defined as the fraction of objects with $|z_{phot}-z_{spec}| > 0.15*(1+z_{spec})$. (1 pt)"
   ]
  },
  {
   "cell_type": "code",
   "execution_count": 129,
   "metadata": {},
   "outputs": [],
   "source": [
    "# Make predictions for the test data\n",
    "y_predict = model.predict(X_test) #Z_phot"
   ]
  },
  {
   "cell_type": "code",
   "execution_count": 20,
   "metadata": {},
   "outputs": [
    {
     "data": {
      "image/png": "[encoded data removed]",
      "text/plain": [
       "<Figure size 640x480 with 1 Axes>"
      ]
     },
     "metadata": {},
     "output_type": "display_data"
    }
   ],
   "source": [
    "import matplotlib.pyplot as plt\n",
    "\n",
    "plt.scatter(y_test, y_predict, color='deepskyblue')\n",
    "\n",
    "plt.xlabel('Z_spec')\n",
    "plt.ylabel('Z_photo');\n",
    "\n"
   ]
  },
  {
   "cell_type": "code",
   "execution_count": 30,
   "metadata": {},
   "outputs": [
    {
     "data": {
      "text/plain": [
       "(0.3136062599718571, 0.19383043)"
      ]
     },
     "execution_count": 30,
     "metadata": {},
     "output_type": "execute_result"
    }
   ],
   "source": [
    "difference[61], outlier[61]"
   ]
  },
  {
   "cell_type": "code",
   "execution_count": 31,
   "metadata": {},
   "outputs": [
    {
     "data": {
      "text/plain": [
       "((1469,), (1469,))"
      ]
     },
     "execution_count": 31,
     "metadata": {},
     "output_type": "execute_result"
    }
   ],
   "source": [
    "y_predict.shape, y_test.shape"
   ]
  },
  {
   "cell_type": "code",
   "execution_count": 56,
   "metadata": {},
   "outputs": [
    {
     "name": "stdout",
     "output_type": "stream",
     "text": [
      "Outlier Fraction =  0.4084411164057182 %\n",
      "Note that this is much smaller than the outlier fractions reported in the paper.\n"
     ]
    }
   ],
   "source": [
    "# Compute the outlier fraction \n",
    "difference = y_predict - y_test\n",
    "\n",
    "outlier = 0.15*(1+y_test)\n",
    "\n",
    "index = []\n",
    "index.append(np.where(difference > outlier))\n",
    "index = np.array(index)\n",
    "#len(index.T)\n",
    "\n",
    "eta = len(index.T)/len(y_test)\n",
    "print('Outlier Fraction = ',eta*100,'%')\n",
    "print('Note that this is much smaller than the outlier fractions reported in the paper.')\n"
   ]
  },
  {
   "cell_type": "markdown",
   "metadata": {},
   "source": [
    "(d) Let's try to optimize hyperparameters `max_features` and `n_estimators`. For `max_features`, try three different values: None, \"sqrt\", and 2. Compute the test scores of the best model and compare them with what you got in #b. (1 pt)"
   ]
  },
  {
   "cell_type": "code",
   "execution_count": 57,
   "metadata": {
    "scrolled": true
   },
   "outputs": [
    {
     "name": "stdout",
     "output_type": "stream",
     "text": [
      "Fitting 5 folds for each of 18 candidates, totalling 90 fits\n",
      "[CV 1/5] END max_features=None, n_estimators=100;, score=(train=0.965, test=0.656) total time=   1.0s\n",
      "[CV 2/5] END max_features=None, n_estimators=100;, score=(train=0.959, test=0.820) total time=   1.0s\n",
      "[CV 3/5] END max_features=None, n_estimators=100;, score=(train=0.962, test=0.714) total time=   0.9s\n",
      "[CV 4/5] END max_features=None, n_estimators=100;, score=(train=0.966, test=0.722) total time=   0.9s\n",
      "[CV 5/5] END max_features=None, n_estimators=100;, score=(train=0.963, test=0.794) total time=   0.9s\n",
      "[CV 1/5] END max_features=None, n_estimators=300;, score=(train=0.966, test=0.656) total time=   2.8s\n",
      "[CV 2/5] END max_features=None, n_estimators=300;, score=(train=0.961, test=0.824) total time=   2.8s\n",
      "[CV 3/5] END max_features=None, n_estimators=300;, score=(train=0.964, test=0.717) total time=   2.8s\n",
      "[CV 4/5] END max_features=None, n_estimators=300;, score=(train=0.966, test=0.716) total time=   2.8s\n",
      "[CV 5/5] END max_features=None, n_estimators=300;, score=(train=0.963, test=0.793) total time=   2.9s\n",
      "[CV 1/5] END max_features=None, n_estimators=500;, score=(train=0.967, test=0.655) total time=   4.7s\n",
      "[CV 2/5] END max_features=None, n_estimators=500;, score=(train=0.962, test=0.824) total time=   4.6s\n",
      "[CV 3/5] END max_features=None, n_estimators=500;, score=(train=0.964, test=0.715) total time=   4.7s\n",
      "[CV 4/5] END max_features=None, n_estimators=500;, score=(train=0.965, test=0.710) total time=   4.7s\n",
      "[CV 5/5] END max_features=None, n_estimators=500;, score=(train=0.962, test=0.793) total time=   4.7s\n",
      "[CV 1/5] END max_features=None, n_estimators=700;, score=(train=0.968, test=0.655) total time=   6.5s\n",
      "[CV 2/5] END max_features=None, n_estimators=700;, score=(train=0.962, test=0.823) total time=   6.5s\n",
      "[CV 3/5] END max_features=None, n_estimators=700;, score=(train=0.964, test=0.721) total time=   6.5s\n",
      "[CV 4/5] END max_features=None, n_estimators=700;, score=(train=0.965, test=0.710) total time=   6.6s\n",
      "[CV 5/5] END max_features=None, n_estimators=700;, score=(train=0.962, test=0.795) total time=   6.5s\n",
      "[CV 1/5] END max_features=None, n_estimators=900;, score=(train=0.968, test=0.655) total time=   8.3s\n",
      "[CV 2/5] END max_features=None, n_estimators=900;, score=(train=0.961, test=0.824) total time=   8.4s\n",
      "[CV 3/5] END max_features=None, n_estimators=900;, score=(train=0.964, test=0.722) total time=   8.4s\n",
      "[CV 4/5] END max_features=None, n_estimators=900;, score=(train=0.965, test=0.710) total time=   8.4s\n",
      "[CV 5/5] END max_features=None, n_estimators=900;, score=(train=0.961, test=0.795) total time=   8.8s\n",
      "[CV 1/5] END max_features=None, n_estimators=1100;, score=(train=0.968, test=0.655) total time=  10.6s\n",
      "[CV 2/5] END max_features=None, n_estimators=1100;, score=(train=0.961, test=0.824) total time=  10.7s\n",
      "[CV 3/5] END max_features=None, n_estimators=1100;, score=(train=0.964, test=0.720) total time=  10.5s\n",
      "[CV 4/5] END max_features=None, n_estimators=1100;, score=(train=0.965, test=0.710) total time=  10.4s\n",
      "[CV 5/5] END max_features=None, n_estimators=1100;, score=(train=0.962, test=0.794) total time=  10.5s\n",
      "[CV 1/5] END max_features=sqrt, n_estimators=100;, score=(train=0.964, test=0.674) total time=   0.5s\n",
      "[CV 2/5] END max_features=sqrt, n_estimators=100;, score=(train=0.959, test=0.806) total time=   0.4s\n",
      "[CV 3/5] END max_features=sqrt, n_estimators=100;, score=(train=0.962, test=0.731) total time=   0.4s\n",
      "[CV 4/5] END max_features=sqrt, n_estimators=100;, score=(train=0.965, test=0.692) total time=   0.4s\n",
      "[CV 5/5] END max_features=sqrt, n_estimators=100;, score=(train=0.963, test=0.761) total time=   0.4s\n",
      "[CV 1/5] END max_features=sqrt, n_estimators=300;, score=(train=0.964, test=0.669) total time=   1.3s\n",
      "[CV 2/5] END max_features=sqrt, n_estimators=300;, score=(train=0.960, test=0.806) total time=   1.3s\n",
      "[CV 3/5] END max_features=sqrt, n_estimators=300;, score=(train=0.964, test=0.724) total time=   1.3s\n",
      "[CV 4/5] END max_features=sqrt, n_estimators=300;, score=(train=0.966, test=0.688) total time=   1.3s\n",
      "[CV 5/5] END max_features=sqrt, n_estimators=300;, score=(train=0.963, test=0.767) total time=   1.3s\n",
      "[CV 1/5] END max_features=sqrt, n_estimators=500;, score=(train=0.966, test=0.669) total time=   2.2s\n",
      "[CV 2/5] END max_features=sqrt, n_estimators=500;, score=(train=0.961, test=0.807) total time=   2.2s\n",
      "[CV 3/5] END max_features=sqrt, n_estimators=500;, score=(train=0.964, test=0.726) total time=   2.2s\n",
      "[CV 4/5] END max_features=sqrt, n_estimators=500;, score=(train=0.965, test=0.686) total time=   2.1s\n",
      "[CV 5/5] END max_features=sqrt, n_estimators=500;, score=(train=0.962, test=0.768) total time=   2.1s\n",
      "[CV 1/5] END max_features=sqrt, n_estimators=700;, score=(train=0.966, test=0.667) total time=   3.0s\n",
      "[CV 2/5] END max_features=sqrt, n_estimators=700;, score=(train=0.961, test=0.806) total time=   3.0s\n",
      "[CV 3/5] END max_features=sqrt, n_estimators=700;, score=(train=0.964, test=0.729) total time=   3.0s\n",
      "[CV 4/5] END max_features=sqrt, n_estimators=700;, score=(train=0.965, test=0.684) total time=   3.1s\n",
      "[CV 5/5] END max_features=sqrt, n_estimators=700;, score=(train=0.961, test=0.769) total time=   3.0s\n",
      "[CV 1/5] END max_features=sqrt, n_estimators=900;, score=(train=0.966, test=0.668) total time=   3.8s\n",
      "[CV 2/5] END max_features=sqrt, n_estimators=900;, score=(train=0.960, test=0.806) total time=   3.8s\n",
      "[CV 3/5] END max_features=sqrt, n_estimators=900;, score=(train=0.963, test=0.731) total time=   3.8s\n",
      "[CV 4/5] END max_features=sqrt, n_estimators=900;, score=(train=0.964, test=0.685) total time=   3.8s\n",
      "[CV 5/5] END max_features=sqrt, n_estimators=900;, score=(train=0.961, test=0.770) total time=   3.9s\n",
      "[CV 1/5] END max_features=sqrt, n_estimators=1100;, score=(train=0.966, test=0.668) total time=   4.8s\n",
      "[CV 2/5] END max_features=sqrt, n_estimators=1100;, score=(train=0.961, test=0.806) total time=   4.8s\n",
      "[CV 3/5] END max_features=sqrt, n_estimators=1100;, score=(train=0.964, test=0.733) total time=   4.7s\n",
      "[CV 4/5] END max_features=sqrt, n_estimators=1100;, score=(train=0.964, test=0.685) total time=   4.7s\n",
      "[CV 5/5] END max_features=sqrt, n_estimators=1100;, score=(train=0.961, test=0.770) total time=   4.8s\n",
      "[CV 1/5] END max_features=2, n_estimators=100;, score=(train=0.964, test=0.674) total time=   0.4s\n",
      "[CV 2/5] END max_features=2, n_estimators=100;, score=(train=0.959, test=0.806) total time=   0.4s\n",
      "[CV 3/5] END max_features=2, n_estimators=100;, score=(train=0.962, test=0.731) total time=   0.4s\n",
      "[CV 4/5] END max_features=2, n_estimators=100;, score=(train=0.965, test=0.692) total time=   0.4s\n",
      "[CV 5/5] END max_features=2, n_estimators=100;, score=(train=0.963, test=0.761) total time=   0.4s\n",
      "[CV 1/5] END max_features=2, n_estimators=300;, score=(train=0.964, test=0.669) total time=   1.3s\n",
      "[CV 2/5] END max_features=2, n_estimators=300;, score=(train=0.960, test=0.806) total time=   1.3s\n",
      "[CV 3/5] END max_features=2, n_estimators=300;, score=(train=0.964, test=0.724) total time=   1.3s\n",
      "[CV 4/5] END max_features=2, n_estimators=300;, score=(train=0.966, test=0.688) total time=   1.3s\n",
      "[CV 5/5] END max_features=2, n_estimators=300;, score=(train=0.963, test=0.767) total time=   1.3s\n",
      "[CV 1/5] END max_features=2, n_estimators=500;, score=(train=0.966, test=0.669) total time=   2.2s\n",
      "[CV 2/5] END max_features=2, n_estimators=500;, score=(train=0.961, test=0.807) total time=   2.2s\n",
      "[CV 3/5] END max_features=2, n_estimators=500;, score=(train=0.964, test=0.726) total time=   2.1s\n",
      "[CV 4/5] END max_features=2, n_estimators=500;, score=(train=0.965, test=0.686) total time=   2.1s\n",
      "[CV 5/5] END max_features=2, n_estimators=500;, score=(train=0.962, test=0.768) total time=   2.2s\n",
      "[CV 1/5] END max_features=2, n_estimators=700;, score=(train=0.966, test=0.667) total time=   3.0s\n",
      "[CV 2/5] END max_features=2, n_estimators=700;, score=(train=0.961, test=0.806) total time=   3.0s\n",
      "[CV 3/5] END max_features=2, n_estimators=700;, score=(train=0.964, test=0.729) total time=   3.0s\n",
      "[CV 4/5] END max_features=2, n_estimators=700;, score=(train=0.965, test=0.684) total time=   3.0s\n",
      "[CV 5/5] END max_features=2, n_estimators=700;, score=(train=0.961, test=0.769) total time=   3.0s\n",
      "[CV 1/5] END max_features=2, n_estimators=900;, score=(train=0.966, test=0.668) total time=   3.9s\n"
     ]
    },
    {
     "name": "stdout",
     "output_type": "stream",
     "text": [
      "[CV 2/5] END max_features=2, n_estimators=900;, score=(train=0.960, test=0.806) total time=   3.9s\n",
      "[CV 3/5] END max_features=2, n_estimators=900;, score=(train=0.963, test=0.731) total time=   3.9s\n",
      "[CV 4/5] END max_features=2, n_estimators=900;, score=(train=0.964, test=0.685) total time=   3.9s\n",
      "[CV 5/5] END max_features=2, n_estimators=900;, score=(train=0.961, test=0.770) total time=   3.9s\n",
      "[CV 1/5] END max_features=2, n_estimators=1100;, score=(train=0.966, test=0.668) total time=   4.8s\n",
      "[CV 2/5] END max_features=2, n_estimators=1100;, score=(train=0.961, test=0.806) total time=   4.8s\n",
      "[CV 3/5] END max_features=2, n_estimators=1100;, score=(train=0.964, test=0.733) total time=   4.8s\n",
      "[CV 4/5] END max_features=2, n_estimators=1100;, score=(train=0.964, test=0.685) total time=   4.7s\n",
      "[CV 5/5] END max_features=2, n_estimators=1100;, score=(train=0.961, test=0.770) total time=   4.8s\n"
     ]
    },
    {
     "data": {
      "text/plain": [
       "GridSearchCV(cv=5, estimator=RandomForestRegressor(random_state=0),\n",
       "             param_grid={'max_features': [None, 'sqrt', 2],\n",
       "                         'n_estimators': [100, 300, 500, 700, 900, 1100]},\n",
       "             return_train_score=True, verbose=3)"
      ]
     },
     "execution_count": 57,
     "metadata": {},
     "output_type": "execute_result"
    }
   ],
   "source": [
    "from sklearn.model_selection import GridSearchCV\n",
    "\n",
    "# Select hyperparameters to optimize\n",
    "param_grid = {'max_features': [None, 'sqrt', 2],\n",
    "             'n_estimators': [100, 300, 500, 700, 900, 1100]}\n",
    "\n",
    "# Perform a grid search\n",
    "grid_search = GridSearchCV(RandomForestRegressor(random_state=0), param_grid, cv=5,\n",
    "                          return_train_score=True, verbose=3)\n",
    "grid_search.fit(X_train, y_train)\n"
   ]
  },
  {
   "cell_type": "code",
   "execution_count": 58,
   "metadata": {},
   "outputs": [
    {
     "name": "stdout",
     "output_type": "stream",
     "text": [
      "Best parameters: {'max_features': None, 'n_estimators': 300}\n",
      "Best model: RandomForestRegressor(max_features=None, n_estimators=300, random_state=0)\n",
      "Test score: 0.69\n"
     ]
    }
   ],
   "source": [
    "print(\"Best parameters: {}\".format(grid_search.best_params_))\n",
    "print(\"Best model: {}\".format(grid_search.best_estimator_))\n",
    "print(\"Test score: {:.2f}\".format(grid_search.score(X_test, y_test)))"
   ]
  },
  {
   "cell_type": "code",
   "execution_count": 59,
   "metadata": {},
   "outputs": [
    {
     "name": "stdout",
     "output_type": "stream",
     "text": [
      "Out-of-Bag Score =  0.7439972671763302\n"
     ]
    }
   ],
   "source": [
    "# Calculate out-of-bag score for the best model\n",
    "model = RandomForestRegressor(max_features=None, n_estimators=300, random_state=0, oob_score=True)\n",
    "model.fit(X, y)\n",
    "oob = model.oob_score_\n",
    "print('Out-of-Bag Score = ', oob)"
   ]
  },
  {
   "cell_type": "code",
   "execution_count": 60,
   "metadata": {},
   "outputs": [
    {
     "data": {
      "text/plain": [
       "<matplotlib.collections.PolyCollection at 0x7fc6f27dc760>"
      ]
     },
     "execution_count": 60,
     "metadata": {},
     "output_type": "execute_result"
    },
    {
     "data": {
      "image/png": "[encoded data removed]",
      "text/plain": [
       "<Figure size 640x480 with 1 Axes>"
      ]
     },
     "metadata": {},
     "output_type": "display_data"
    }
   ],
   "source": [
    "# Visualize hyperparameterization with a heatmap\n",
    "import pandas as pd\n",
    "import mglearn \n",
    "\n",
    "results = pd.DataFrame(grid_search.cv_results_)\n",
    "scores = np.array(results.mean_test_score).reshape(6,3)\n",
    "\n",
    "mglearn.tools.heatmap(scores, xlabel='max_features', xticklabels=param_grid['max_features'],\n",
    "                     ylabel='n_estimators', yticklabels=param_grid['n_estimators'], cmap='viridis')\n",
    "\n"
   ]
  },
  {
   "cell_type": "markdown",
   "metadata": {},
   "source": [
    "It seems like the max_features might not matter since they all produce the same score."
   ]
  },
  {
   "cell_type": "markdown",
   "metadata": {},
   "source": [
    "(e) You might have found that the test scores are not drastically improved. What should we do? Let's try to add u-g, g-r, r-i, i-z, z-y colors and see if it improves the performance. You now have a 11-dimensional dataset. Using this new dataset, make a Random Forest, optimize hyperparameters, and compute the test score of the best model. (1 pt)"
   ]
  },
  {
   "cell_type": "code",
   "execution_count": 61,
   "metadata": {},
   "outputs": [],
   "source": [
    "# Compute colors\n",
    "u_g = df_new['u_apercor'] - df_new['g_apercor']\n",
    "g_r = df_new['g_apercor'] - df_new['r_apercor']\n",
    "r_i = df_new['r_apercor'] - df_new['i_apercor']\n",
    "i_z = df_new['i_apercor'] - df_new['z_apercor']\n",
    "z_y = df_new['z_apercor'] - df_new['y_apercor']\n",
    "\n",
    "\n",
    "# Gather all the features (including colors) into an array X\n",
    "X = np.array([df_new['u_apercor'], df_new['g_apercor'], df_new['r_apercor'], df_new['i_apercor'],\n",
    "            df_new['z_apercor'], df_new['y_apercor'], u_g, g_r, r_i, i_z, z_y]).T\n",
    "# Put labels into an array y\n",
    "y = np.array(df_new['zhelio'])\n",
    "\n",
    "# This is just for plotting\n",
    "feature_names = ['u', 'g', 'r', 'i', 'z', 'y', 'u-g', 'g-r', 'r-i', 'i-z', 'z-y']\n",
    "\n",
    "# Split training and testing data\n",
    "X_train, X_test, y_train, y_test = train_test_split(X, y, random_state=0)\n"
   ]
  },
  {
   "cell_type": "code",
   "execution_count": 62,
   "metadata": {},
   "outputs": [
    {
     "data": {
      "text/plain": [
       "((5874, 11), (5874,))"
      ]
     },
     "execution_count": 62,
     "metadata": {},
     "output_type": "execute_result"
    }
   ],
   "source": [
    "X.shape, y.shape"
   ]
  },
  {
   "cell_type": "code",
   "execution_count": 63,
   "metadata": {
    "scrolled": true
   },
   "outputs": [
    {
     "name": "stdout",
     "output_type": "stream",
     "text": [
      "Fitting 5 folds for each of 15 candidates, totalling 75 fits\n",
      "[CV 1/5] END max_features=None, n_estimators=100;, score=(train=0.971, test=0.781) total time=   1.7s\n",
      "[CV 2/5] END max_features=None, n_estimators=100;, score=(train=0.970, test=0.858) total time=   1.7s\n",
      "[CV 3/5] END max_features=None, n_estimators=100;, score=(train=0.974, test=0.731) total time=   1.7s\n",
      "[CV 4/5] END max_features=None, n_estimators=100;, score=(train=0.976, test=0.746) total time=   1.7s\n",
      "[CV 5/5] END max_features=None, n_estimators=100;, score=(train=0.972, test=0.872) total time=   1.7s\n",
      "[CV 1/5] END max_features=None, n_estimators=300;, score=(train=0.971, test=0.783) total time=   5.0s\n",
      "[CV 2/5] END max_features=None, n_estimators=300;, score=(train=0.970, test=0.859) total time=   5.0s\n",
      "[CV 3/5] END max_features=None, n_estimators=300;, score=(train=0.975, test=0.737) total time=   5.0s\n",
      "[CV 4/5] END max_features=None, n_estimators=300;, score=(train=0.975, test=0.743) total time=   4.9s\n",
      "[CV 5/5] END max_features=None, n_estimators=300;, score=(train=0.971, test=0.870) total time=   5.1s\n",
      "[CV 1/5] END max_features=None, n_estimators=500;, score=(train=0.973, test=0.780) total time=   8.4s\n",
      "[CV 2/5] END max_features=None, n_estimators=500;, score=(train=0.971, test=0.859) total time=   8.3s\n",
      "[CV 3/5] END max_features=None, n_estimators=500;, score=(train=0.974, test=0.739) total time=   8.3s\n",
      "[CV 4/5] END max_features=None, n_estimators=500;, score=(train=0.974, test=0.745) total time=   8.3s\n",
      "[CV 5/5] END max_features=None, n_estimators=500;, score=(train=0.970, test=0.869) total time=   8.3s\n",
      "[CV 1/5] END max_features=None, n_estimators=700;, score=(train=0.973, test=0.779) total time=  11.7s\n",
      "[CV 2/5] END max_features=None, n_estimators=700;, score=(train=0.971, test=0.859) total time=  11.7s\n",
      "[CV 3/5] END max_features=None, n_estimators=700;, score=(train=0.974, test=0.740) total time=  11.8s\n",
      "[CV 4/5] END max_features=None, n_estimators=700;, score=(train=0.974, test=0.746) total time=  11.7s\n",
      "[CV 5/5] END max_features=None, n_estimators=700;, score=(train=0.970, test=0.869) total time=  12.0s\n",
      "[CV 1/5] END max_features=None, n_estimators=900;, score=(train=0.973, test=0.781) total time=  15.2s\n",
      "[CV 2/5] END max_features=None, n_estimators=900;, score=(train=0.971, test=0.857) total time=  15.3s\n",
      "[CV 3/5] END max_features=None, n_estimators=900;, score=(train=0.974, test=0.741) total time=  15.4s\n",
      "[CV 4/5] END max_features=None, n_estimators=900;, score=(train=0.974, test=0.747) total time=  15.2s\n",
      "[CV 5/5] END max_features=None, n_estimators=900;, score=(train=0.970, test=0.869) total time=  15.4s\n",
      "[CV 1/5] END max_features=sqrt, n_estimators=100;, score=(train=0.974, test=0.766) total time=   0.6s\n",
      "[CV 2/5] END max_features=sqrt, n_estimators=100;, score=(train=0.969, test=0.852) total time=   0.6s\n",
      "[CV 3/5] END max_features=sqrt, n_estimators=100;, score=(train=0.972, test=0.798) total time=   0.6s\n",
      "[CV 4/5] END max_features=sqrt, n_estimators=100;, score=(train=0.975, test=0.745) total time=   0.6s\n",
      "[CV 5/5] END max_features=sqrt, n_estimators=100;, score=(train=0.973, test=0.848) total time=   0.6s\n",
      "[CV 1/5] END max_features=sqrt, n_estimators=300;, score=(train=0.973, test=0.767) total time=   1.8s\n",
      "[CV 2/5] END max_features=sqrt, n_estimators=300;, score=(train=0.970, test=0.859) total time=   1.8s\n",
      "[CV 3/5] END max_features=sqrt, n_estimators=300;, score=(train=0.973, test=0.790) total time=   1.8s\n",
      "[CV 4/5] END max_features=sqrt, n_estimators=300;, score=(train=0.976, test=0.741) total time=   1.8s\n",
      "[CV 5/5] END max_features=sqrt, n_estimators=300;, score=(train=0.973, test=0.853) total time=   1.8s\n",
      "[CV 1/5] END max_features=sqrt, n_estimators=500;, score=(train=0.974, test=0.768) total time=   3.0s\n",
      "[CV 2/5] END max_features=sqrt, n_estimators=500;, score=(train=0.971, test=0.860) total time=   3.0s\n",
      "[CV 3/5] END max_features=sqrt, n_estimators=500;, score=(train=0.973, test=0.792) total time=   3.0s\n",
      "[CV 4/5] END max_features=sqrt, n_estimators=500;, score=(train=0.975, test=0.741) total time=   3.0s\n",
      "[CV 5/5] END max_features=sqrt, n_estimators=500;, score=(train=0.972, test=0.855) total time=   3.0s\n",
      "[CV 1/5] END max_features=sqrt, n_estimators=700;, score=(train=0.974, test=0.767) total time=   4.2s\n",
      "[CV 2/5] END max_features=sqrt, n_estimators=700;, score=(train=0.971, test=0.861) total time=   4.2s\n",
      "[CV 3/5] END max_features=sqrt, n_estimators=700;, score=(train=0.973, test=0.791) total time=   4.2s\n",
      "[CV 4/5] END max_features=sqrt, n_estimators=700;, score=(train=0.974, test=0.742) total time=   4.2s\n",
      "[CV 5/5] END max_features=sqrt, n_estimators=700;, score=(train=0.971, test=0.855) total time=   4.2s\n",
      "[CV 1/5] END max_features=sqrt, n_estimators=900;, score=(train=0.974, test=0.769) total time=   5.4s\n",
      "[CV 2/5] END max_features=sqrt, n_estimators=900;, score=(train=0.971, test=0.861) total time=   5.4s\n",
      "[CV 3/5] END max_features=sqrt, n_estimators=900;, score=(train=0.973, test=0.791) total time=   5.4s\n",
      "[CV 4/5] END max_features=sqrt, n_estimators=900;, score=(train=0.974, test=0.743) total time=   5.3s\n",
      "[CV 5/5] END max_features=sqrt, n_estimators=900;, score=(train=0.971, test=0.856) total time=   5.4s\n",
      "[CV 1/5] END max_features=2, n_estimators=100;, score=(train=0.971, test=0.753) total time=   0.4s\n",
      "[CV 2/5] END max_features=2, n_estimators=100;, score=(train=0.968, test=0.852) total time=   0.4s\n",
      "[CV 3/5] END max_features=2, n_estimators=100;, score=(train=0.970, test=0.792) total time=   0.4s\n",
      "[CV 4/5] END max_features=2, n_estimators=100;, score=(train=0.974, test=0.734) total time=   0.4s\n",
      "[CV 5/5] END max_features=2, n_estimators=100;, score=(train=0.972, test=0.845) total time=   0.4s\n",
      "[CV 1/5] END max_features=2, n_estimators=300;, score=(train=0.972, test=0.753) total time=   1.3s\n",
      "[CV 2/5] END max_features=2, n_estimators=300;, score=(train=0.969, test=0.855) total time=   1.3s\n",
      "[CV 3/5] END max_features=2, n_estimators=300;, score=(train=0.972, test=0.791) total time=   1.3s\n",
      "[CV 4/5] END max_features=2, n_estimators=300;, score=(train=0.974, test=0.732) total time=   1.3s\n",
      "[CV 5/5] END max_features=2, n_estimators=300;, score=(train=0.971, test=0.844) total time=   1.3s\n",
      "[CV 1/5] END max_features=2, n_estimators=500;, score=(train=0.973, test=0.756) total time=   2.2s\n",
      "[CV 2/5] END max_features=2, n_estimators=500;, score=(train=0.970, test=0.856) total time=   2.2s\n",
      "[CV 3/5] END max_features=2, n_estimators=500;, score=(train=0.972, test=0.793) total time=   2.2s\n",
      "[CV 4/5] END max_features=2, n_estimators=500;, score=(train=0.974, test=0.730) total time=   2.2s\n",
      "[CV 5/5] END max_features=2, n_estimators=500;, score=(train=0.970, test=0.843) total time=   2.2s\n",
      "[CV 1/5] END max_features=2, n_estimators=700;, score=(train=0.973, test=0.756) total time=   3.1s\n",
      "[CV 2/5] END max_features=2, n_estimators=700;, score=(train=0.970, test=0.855) total time=   3.2s\n",
      "[CV 3/5] END max_features=2, n_estimators=700;, score=(train=0.972, test=0.795) total time=   3.1s\n",
      "[CV 4/5] END max_features=2, n_estimators=700;, score=(train=0.973, test=0.734) total time=   3.1s\n",
      "[CV 5/5] END max_features=2, n_estimators=700;, score=(train=0.970, test=0.844) total time=   3.1s\n",
      "[CV 1/5] END max_features=2, n_estimators=900;, score=(train=0.973, test=0.757) total time=   4.0s\n",
      "[CV 2/5] END max_features=2, n_estimators=900;, score=(train=0.970, test=0.855) total time=   4.0s\n",
      "[CV 3/5] END max_features=2, n_estimators=900;, score=(train=0.972, test=0.793) total time=   4.0s\n",
      "[CV 4/5] END max_features=2, n_estimators=900;, score=(train=0.973, test=0.732) total time=   4.0s\n",
      "[CV 5/5] END max_features=2, n_estimators=900;, score=(train=0.970, test=0.844) total time=   4.0s\n"
     ]
    },
    {
     "data": {
      "text/plain": [
       "GridSearchCV(cv=5, estimator=RandomForestRegressor(random_state=0),\n",
       "             param_grid={'max_features': [None, 'sqrt', 2],\n",
       "                         'n_estimators': [100, 300, 500, 700, 900]},\n",
       "             return_train_score=True, verbose=3)"
      ]
     },
     "execution_count": 63,
     "metadata": {},
     "output_type": "execute_result"
    }
   ],
   "source": [
    "# Select hyperparameters to optimize\n",
    "param_grid = {'max_features': [None, 'sqrt', 2],\n",
    "             'n_estimators': [100, 300, 500, 700, 900]}\n",
    "\n",
    "# Perform a grid search\n",
    "grid_search = GridSearchCV(RandomForestRegressor(random_state=0), param_grid, cv=5,\n",
    "                          return_train_score=True, verbose=3)\n",
    "grid_search.fit(X_train, y_train)"
   ]
  },
  {
   "cell_type": "code",
   "execution_count": 64,
   "metadata": {},
   "outputs": [
    {
     "name": "stdout",
     "output_type": "stream",
     "text": [
      "Best parameters: {'max_features': 'sqrt', 'n_estimators': 900}\n",
      "Best model: RandomForestRegressor(max_features='sqrt', n_estimators=900, random_state=0)\n",
      "Test score: 0.76\n"
     ]
    }
   ],
   "source": [
    "print(\"Best parameters: {}\".format(grid_search.best_params_))\n",
    "print(\"Best model: {}\".format(grid_search.best_estimator_))\n",
    "print(\"Test score: {:.2f}\".format(grid_search.score(X_test, y_test)))"
   ]
  },
  {
   "cell_type": "code",
   "execution_count": 66,
   "metadata": {},
   "outputs": [
    {
     "name": "stdout",
     "output_type": "stream",
     "text": [
      "Out-of-Bag Score =  0.8034302629408946\n"
     ]
    }
   ],
   "source": [
    "# Calculate out-of-bag score for the best model\n",
    "model = RandomForestRegressor(max_features='sqrt', n_estimators=900, random_state=0, oob_score=True)\n",
    "model.fit(X, y)\n",
    "oob = model.oob_score_\n",
    "print('Out-of-Bag Score = ', oob)"
   ]
  },
  {
   "cell_type": "markdown",
   "metadata": {},
   "source": [
    "(f) With your best model, repeat #c. Make a plot showing photometric redshift vs. spectroscopic redshift, and compute the outlier fraction. Do you find better perfomance? (1 pt)"
   ]
  },
  {
   "cell_type": "code",
   "execution_count": 67,
   "metadata": {},
   "outputs": [],
   "source": [
    "# Make prediction of testing data\n",
    "y_predict_new = model.predict(X_test)\n"
   ]
  },
  {
   "cell_type": "code",
   "execution_count": 72,
   "metadata": {},
   "outputs": [
    {
     "data": {
      "image/png": "[encoded data removed]",
      "text/plain": [
       "<Figure size 1000x500 with 2 Axes>"
      ]
     },
     "metadata": {},
     "output_type": "display_data"
    }
   ],
   "source": [
    "import matplotlib.pyplot as plt\n",
    "\n",
    "plt.figure(figsize=(10,5))\n",
    "\n",
    "plt.subplot(1,2,1)\n",
    "plt.scatter(y_test, y_predict_new, color='lime')\n",
    "plt.title('11 Features')\n",
    "plt.xlabel('Z_spec')\n",
    "plt.ylabel('Z_photo')\n",
    "plt.ylim(0,2.5)\n",
    "plt.xlim(0,2.5)\n",
    "plt.grid()\n",
    "\n",
    "plt.subplot(1,2,2)\n",
    "plt.scatter(y_test, y_predict, color='deepskyblue')\n",
    "plt.title('6 Features')\n",
    "plt.xlabel('Z_spec')\n",
    "plt.ylabel('Z_photo')\n",
    "plt.ylim(0,3.0)\n",
    "plt.xlim(0,4.0)\n",
    "plt.grid();"
   ]
  },
  {
   "cell_type": "code",
   "execution_count": 77,
   "metadata": {},
   "outputs": [
    {
     "name": "stdout",
     "output_type": "stream",
     "text": [
      "Outlier Fraction =  0.4084411164057182 %\n",
      "No change from the smaller dimension.\n"
     ]
    }
   ],
   "source": [
    "# Compute the outlier fraction \n",
    "difference = y_predict_new - y_test\n",
    "\n",
    "outlier = 0.15*(1+y_test)\n",
    "\n",
    "index = []\n",
    "index.append(np.where(difference > outlier))\n",
    "index = np.array(index)\n",
    "\n",
    "eta = len(index.T)/len(y_test)\n",
    "print('Outlier Fraction = ',eta*100,'%')\n",
    "print('No change from the smaller dimension.')\n"
   ]
  },
  {
   "cell_type": "markdown",
   "metadata": {},
   "source": [
    "(g) Make a plot showing feature importance. Which is more important between colors and magnitudes? Does the feature importance plot support that adding colors helped improve the performance? (1 pt)"
   ]
  },
  {
   "cell_type": "code",
   "execution_count": 78,
   "metadata": {},
   "outputs": [
    {
     "data": {
      "image/png": "[encoded data removed]",
      "text/plain": [
       "<Figure size 640x480 with 1 Axes>"
      ]
     },
     "metadata": {},
     "output_type": "display_data"
    }
   ],
   "source": [
    "def plot_feature_importances(model):\n",
    "    n_features = X.shape[1]\n",
    "    plt.barh(np.arange(n_features), model.feature_importances_, align='center')\n",
    "    plt.yticks(np.arange(n_features), feature_names)\n",
    "    plt.xlabel(\"Feature importance\")\n",
    "    plt.ylabel(\"Feature\")\n",
    "    plt.ylim(-1, n_features)\n",
    "\n",
    "plot_feature_importances(model)"
   ]
  },
  {
   "cell_type": "markdown",
   "metadata": {},
   "source": [
    "**Yes, the feature importance plot supports that adding the color improved performance. Overall, the colors were more important than the magnitudes, with i-z and u-g color being the most important.**"
   ]
  },
  {
   "cell_type": "markdown",
   "metadata": {},
   "source": [
    "### 2. Photometric redshift estimator using Gradient Boosting (3 pts)\n"
   ]
  },
  {
   "cell_type": "markdown",
   "metadata": {},
   "source": [
    "This time, let's use Gradient Boosting to compute photometric redshift. "
   ]
  },
  {
   "cell_type": "markdown",
   "metadata": {},
   "source": [
    "(a) Let's use `max_depth=2`. What `n_estimator` should we use? Make a plot showing the validation error vs. n_estimator and find the optimal `n_estimator`. What is your optimal `n_estimator` and what is the test score using the optimal model? (1 pt)"
   ]
  },
  {
   "cell_type": "code",
   "execution_count": 84,
   "metadata": {},
   "outputs": [],
   "source": [
    "# Gather all the features (including colors) into an array X\n",
    "X = np.array([df_new['u_apercor'], df_new['g_apercor'], df_new['r_apercor'], df_new['i_apercor'],\n",
    "            df_new['z_apercor'], df_new['y_apercor'], u_g, g_r, r_i, i_z, z_y]).T\n",
    "# Put labels into an array y\n",
    "y = np.array(df_new['zhelio'])\n",
    "\n",
    "# This is just for plotting\n",
    "feature_names = ['u', 'g', 'r', 'i', 'z', 'y', 'u-g', 'g-r', 'r-i', 'i-z', 'z-y']\n",
    "\n",
    "# Split training and testing data\n",
    "X_train, X_test, y_train, y_test = train_test_split(X, y, random_state=0)"
   ]
  },
  {
   "cell_type": "code",
   "execution_count": 85,
   "metadata": {},
   "outputs": [
    {
     "data": {
      "text/plain": [
       "GradientBoostingRegressor(max_depth=2, n_estimators=109, random_state=42)"
      ]
     },
     "execution_count": 85,
     "metadata": {},
     "output_type": "execute_result"
    }
   ],
   "source": [
    "from sklearn.ensemble import GradientBoostingRegressor\n",
    "from sklearn.metrics import mean_squared_error\n",
    "\n",
    "# Create model with max_depth=2 and arbitrary n_estimators\n",
    "model = GradientBoostingRegressor(max_depth=2, n_estimators=120, random_state=42)\n",
    "# Fit model to training data\n",
    "model.fit(X_train, y_train)\n",
    "\n",
    "#Here, \"staged_predict\" gives the prediction at each stage.\n",
    "errors = [mean_squared_error(y_test, y_pred) for y_pred in model.staged_predict(X_test)]\n",
    "best_n_estimators = np.argmin(errors) + 1\n",
    "\n",
    "model_best = GradientBoostingRegressor(max_depth=2, n_estimators=best_n_estimators, random_state=42)\n",
    "model_best.fit(X_train, y_train)\n",
    "\n"
   ]
  },
  {
   "cell_type": "code",
   "execution_count": 119,
   "metadata": {},
   "outputs": [
    {
     "data": {
      "text/plain": [
       "Text(0.5, 1.0, 'Validation error')"
      ]
     },
     "execution_count": 119,
     "metadata": {},
     "output_type": "execute_result"
    },
    {
     "data": {
      "image/png": "[encoded data removed]",
      "text/plain": [
       "<Figure size 1000x400 with 1 Axes>"
      ]
     },
     "metadata": {},
     "output_type": "display_data"
    }
   ],
   "source": [
    "# Make a plot showing the validation error vs. n_estimator\n",
    "plt.figure(figsize=(10, 4))\n",
    "\n",
    "min_error = np.min(errors) #Find where the error is minimum \n",
    "\n",
    "#plt.subplot(121)\n",
    "plt.plot(errors, color='fuchsia') #Plot the validation errors calculated about for each n_estimator\n",
    "plt.scatter(np.arange(120), errors, color='fuchsia') #scatter points\n",
    "plt.plot([best_n_estimators, best_n_estimators], [0, min_error], \"k--\") #Vertical line at best n_estimators\n",
    "plt.plot([0, 120], [min_error, min_error], \"k--\") #Horizontal line at best n_estimators\n",
    "plt.plot(best_n_estimators, min_error, \"ko\") #Point at best n_estimators\n",
    "plt.text(best_n_estimators, min_error*1.2, \"Minimum at \"+str(best_n_estimators), ha=\"center\", fontsize=14)\n",
    "plt.xlabel(\"n_estimators\", fontsize=16)\n",
    "plt.ylabel(\"Error\", fontsize=16)\n",
    "plt.title(\"Validation error\", fontsize=14)\n",
    "\n"
   ]
  },
  {
   "cell_type": "markdown",
   "metadata": {},
   "source": [
    "**Optimal n_estimator = 109.**"
   ]
  },
  {
   "cell_type": "code",
   "execution_count": 121,
   "metadata": {},
   "outputs": [
    {
     "name": "stdout",
     "output_type": "stream",
     "text": [
      "Test score =  0.7224227701008876\n"
     ]
    }
   ],
   "source": [
    "# Create the optimal model\n",
    "model = GradientBoostingRegressor(max_depth=2, n_estimators=109, random_state=42)\n",
    "# Fit model to training data\n",
    "model.fit(X_train, y_train)\n",
    "\n",
    "# Compute the testing score for the optimal model\n",
    "print('Test score = ',model.score(X_test, y_test))\n",
    "\n",
    "\n"
   ]
  },
  {
   "cell_type": "markdown",
   "metadata": {},
   "source": [
    "(b) Using the `GradientBoostingRegressor` you built in #a, make predictions for the test dataset. This prediction will be the \"photometric redshift\". Then, make a scatter plot showing photometric redshift vs. spectroscopic redshift. Your figure should look similar to Figure 5 of Zhou et al. (2019). Also, compute the outlier fraction $\\eta$, which is defined as the fraction of objects with $|z_{phot}-z_{spec}| > 0.15*(1+z_{spec})$. (1 pt)"
   ]
  },
  {
   "cell_type": "code",
   "execution_count": 130,
   "metadata": {},
   "outputs": [],
   "source": [
    "# Make prediction of testing data\n",
    "y_predict = model.predict(X_test)\n"
   ]
  },
  {
   "cell_type": "code",
   "execution_count": 141,
   "metadata": {},
   "outputs": [
    {
     "data": {
      "image/png": "[encoded data removed]",
      "text/plain": [
       "<Figure size 640x480 with 1 Axes>"
      ]
     },
     "metadata": {},
     "output_type": "display_data"
    }
   ],
   "source": [
    "# Plotting\n",
    "plt.scatter(y_test, y_predict, color='fuchsia')\n",
    "\n",
    "plt.xlabel('Z$_{spec}$')\n",
    "plt.ylabel('Z$_{photo}$')\n",
    "plt.grid()\n",
    "plt.xlim(0,3.0)\n",
    "plt.ylim(0,3.0);"
   ]
  },
  {
   "cell_type": "code",
   "execution_count": 137,
   "metadata": {},
   "outputs": [
    {
     "name": "stdout",
     "output_type": "stream",
     "text": [
      "Outlier Fraction =  2.722940776038121 %\n",
      "Outlier fraction is closer to what the paper predicted than my previous models. But still not as close as I would like.\n"
     ]
    }
   ],
   "source": [
    "# Compute outlier fraction\n",
    "difference = y_predict - y_test\n",
    "\n",
    "outlier = 0.15*(1+y_test)\n",
    "\n",
    "index = []\n",
    "index.append(np.where(difference > outlier))\n",
    "index = np.array(index)\n",
    "\n",
    "eta = len(index.T)/len(y_test)\n",
    "print('Outlier Fraction = ',eta*100,'%')\n",
    "print('Outlier fraction is closer to what the paper predicted than my previous models. But still not as close as I would like.')\n",
    "\n"
   ]
  },
  {
   "cell_type": "markdown",
   "metadata": {},
   "source": [
    "(c) Make a movie showing the evolution of photometric redshift vs. spectroscopic redshift as you increase `n_estimator`. See gbr.mp4 on Canvas as an example. Discuss what you see in the movie in the context of boosting. Submit your movie file. (1 pt)"
   ]
  },
  {
   "cell_type": "code",
   "execution_count": 147,
   "metadata": {},
   "outputs": [],
   "source": [
    "n = 1\n",
    "n_max = 120\n",
    "\n",
    "while n < n_max:\n",
    "    \n",
    "    # Create the optimal model\n",
    "    model = GradientBoostingRegressor(max_depth=2, n_estimators=n, random_state=42)\n",
    "    # Fit model to training data\n",
    "    model.fit(X_train, y_train)\n",
    "    \n",
    "    # Make prediction\n",
    "    y_predict = model.predict(X_test)\n",
    "    \n",
    "    # Plotting\n",
    "    plt.scatter(y_test, y_predict, color='fuchsia')\n",
    "    plt.xlabel('Z_spec')\n",
    "    plt.ylabel('Z_photo')\n",
    "    plt.xlim(0.0,3.0)\n",
    "    plt.ylim(0.0,3.0)\n",
    "    plt.grid()\n",
    "    plt.title('n_estimators = '+str(n))\n",
    "    \n",
    "    # Save figures\n",
    "    if n < 10:\n",
    "        plt.savefig('plots/gradBoost_00'+str(n)+'.png')\n",
    "    if n > 9 and n < 100:\n",
    "        plt.savefig('plots/gradBoost_0'+str(n)+'.png')\n",
    "    if n > 99:\n",
    "        plt.savefig('plots/gradBoost_'+str(n)+'.png')\n",
    "    \n",
    "    # Close each figure so my computer doesn't explode\n",
    "    plt.close()\n",
    "    \n",
    "    n = n+1\n",
    "    \n",
    "# Note: I made the movie using ffmpeg on the terminal of my local device using the syntax below\n",
    "#ffmpeg -framerate 10 -pattern_type glob -i '*.png' -c:v libx264 -pix_fmt yuv420p out.mp4"
   ]
  },
  {
   "cell_type": "markdown",
   "metadata": {},
   "source": [
    "**The predictions generally get better as n_estimators increases. Also, I noticed that Gradient Boosting does not do as good of a job as Random Forest at predicting the higher redshift galaxies (> 1.5). I'm guessing that since the data is less dense in that area the model treats it more like an outlier, and Gradient Boosting can be very sensitive to outliers and noise.**"
   ]
  },
  {
   "cell_type": "markdown",
   "metadata": {},
   "source": [
    "### Congratulations! You reproduced results presented in yet another journal paper. If you enjoyed the homework and would like to do some additional related analysis, I recommend you have a look at the following papers and references therein. Feel free to read/reproduce them for paper presentation and/or term project.\n",
    "\n",
    "https://ui.adsabs.harvard.edu/abs/2010ApJ...712..511C/abstract\n",
    "\n",
    "https://ui.adsabs.harvard.edu/abs/2021MNRAS.505.4847H/abstract\n",
    "\n",
    "https://ui.adsabs.harvard.edu/abs/2022MNRAS.509.2289L/abstract\n",
    "\n",
    "https://ui.adsabs.harvard.edu/abs/2022MNRAS.512.1696H/abstract"
   ]
  }
 ],
 "metadata": {
  "kernelspec": {
   "display_name": "Python 3 (ipykernel)",
   "language": "python",
   "name": "python3"
  },
  "language_info": {
   "codemirror_mode": {
    "name": "ipython",
    "version": 3
   },
   "file_extension": ".py",
   "mimetype": "text/x-python",
   "name": "python",
   "nbconvert_exporter": "python",
   "pygments_lexer": "ipython3",
   "version": "3.9.13"
  }
 },
 "nbformat": 4,
 "nbformat_minor": 4
}
